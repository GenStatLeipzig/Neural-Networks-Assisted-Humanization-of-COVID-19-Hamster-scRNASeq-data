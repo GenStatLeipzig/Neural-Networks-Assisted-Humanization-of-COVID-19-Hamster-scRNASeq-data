{
 "cells": [
  {
   "cell_type": "code",
   "execution_count": 1,
   "id": "b0605f35",
   "metadata": {
    "scrolled": true
   },
   "outputs": [
    {
     "name": "stderr",
     "output_type": "stream",
     "text": [
      "/home/sc.uni-leipzig.de/mh823zote/miniconda3/envs/scgen/lib/python3.9/site-packages/statsmodels/compat/pandas.py:65: FutureWarning: pandas.Int64Index is deprecated and will be removed from pandas in a future version. Use pandas.Index with the appropriate dtype instead.\n",
      "  from pandas import Int64Index as NumericIndex\n"
     ]
    },
    {
     "name": "stdout",
     "output_type": "stream",
     "text": [
      "folder created!\n"
     ]
    },
    {
     "name": "stderr",
     "output_type": "stream",
     "text": [
      "/work/users/mh823zote/projects/cov/integration/analysis/helper_VAE.py:3004: ImplicitModificationWarning: Trying to modify attribute `.obs` of view, initializing view as actual.\n",
      "  adata.obs['dataset'] = adata.obs['species'].copy()\n",
      "/tmp/ipykernel_2190528/2303664804.py:35: DtypeWarning: Columns (8,9,11,12,13,14,15,16,18,19,21,22,23,24,25,26,27,29,30,31,32,33,34,35,37,39,40,41,42,43,44,67,69,78,79,80,96,97,100,101,102,106,117) have mixed types. Specify dtype option on import or set low_memory=False.\n",
      "  df_anno_new = pd.read_csv(path_obs_v228_2,sep='\\t',index_col = 0)\n",
      "/tmp/ipykernel_2190528/2303664804.py:38: ImplicitModificationWarning: Trying to modify attribute `.obs` of view, initializing view as actual.\n",
      "  human_ct.obs['ID'] = human_ct.obs.index\n"
     ]
    }
   ],
   "source": [
    "import scanpy as sc\n",
    "import numpy as np\n",
    "import scgen as scg\n",
    "import pandas as pd\n",
    "import sys\n",
    "sys.path.append(\"/work/users/mh823zote/projects/cov/integration/analysis\")\n",
    "import helper_VAE as hVAE\n",
    "import scipy.sparse\n",
    "import scgen\n",
    "import matplotlib.pyplot as plt\n",
    "import seaborn as sns\n",
    "import harmonypy as hpy\n",
    "import anndata\n",
    "import random\n",
    "import os\n",
    "\n",
    "base = \"/work/users/mh823zote/projects/cov/integration\" \n",
    "species = 'ma'\n",
    "object_number = '228_1'\n",
    "script_number = 'B01'\n",
    "celltype = 'Immature_Neutrophils'\n",
    "hVAE.make_folder_if_not_existing(celltype)\n",
    "\n",
    "path_counts = base + '/data/05_newPrepro/04_moreOrthologues/v227_2_MA.h5ad'\n",
    "path_obs = base + '/data/05_newPrepro/04_moreOrthologues/v228_1_MA_obs.csv'\n",
    "path_var = base + '/data/05_newPrepro/04_moreOrthologues/v227_2_MA_var.csv'\n",
    "path_obs_v228_2 = base + '/data/05_newPrepro/04_moreOrthologues/h228_2_qc_integrated_rpca_cellanno_FILTEREDqc_FILTEREDpureCells.txt'\n",
    "\n",
    "\n",
    "human,hamster = hVAE.process_v228_1_Neutrophil_proof_principle(path_counts,path_obs,path_var)\n",
    "\n",
    "celltype_string = 'uniform_name_acurate_N'\n",
    "human_ct = hVAE.filter_adata_obs(human,col_name=celltype_string,val=celltype)\n",
    "#subtype\n",
    "df_anno_new = pd.read_csv(path_obs_v228_2,sep='\\t',index_col = 0)\n",
    "df_anno_new['ID'] = df_anno_new.index\n",
    "df_anno_new = df_anno_new[['ID','rpca_clusters.v2']]\n",
    "human_ct.obs['ID'] = human_ct.obs.index\n",
    "merged = pd.merge(human_ct.obs,df_anno_new,on = 'ID')\n",
    "merged.index = merged['ID']\n",
    "human_ct.obs = merged\n",
    "human_ct.obs['rpca_clusters.v2'] = hVAE.make_string_column(human_ct.obs['rpca_clusters.v2'])\n",
    "human_ct = hVAE.leave_out_adata_obs(adata=human_ct,col_name='rpca_clusters.v2',val='30')\n",
    "#\n",
    "hamster_ct = hVAE.filter_adata_obs(hamster,col_name=celltype_string,val=celltype)"
   ]
  },
  {
   "cell_type": "code",
   "execution_count": 4,
   "id": "72f63838",
   "metadata": {},
   "outputs": [],
   "source": [
    "human_ct.obs.to_csv('C01_human_Immature_Neutrophils_ID.csv')"
   ]
  }
 ],
 "metadata": {
  "kernelspec": {
   "display_name": "Python 3 (ipykernel)",
   "language": "python",
   "name": "python3"
  },
  "language_info": {
   "codemirror_mode": {
    "name": "ipython",
    "version": 3
   },
   "file_extension": ".py",
   "mimetype": "text/x-python",
   "name": "python",
   "nbconvert_exporter": "python",
   "pygments_lexer": "ipython3",
   "version": "3.9.5"
  }
 },
 "nbformat": 4,
 "nbformat_minor": 5
}
