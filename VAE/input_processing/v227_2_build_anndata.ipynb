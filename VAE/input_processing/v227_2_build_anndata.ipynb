{
 "cells": [
  {
   "cell_type": "code",
   "execution_count": 1,
   "id": "6ecd837d",
   "metadata": {},
   "outputs": [],
   "source": [
    "import scanpy as sc\n",
    "import pandas as pd\n",
    "import numpy as np\n",
    "from scipy import sparse\n",
    "import anndata as ad"
   ]
  },
  {
   "cell_type": "markdown",
   "id": "a5e3cf53",
   "metadata": {},
   "source": [
    "# hamster MA"
   ]
  },
  {
   "cell_type": "markdown",
   "id": "b4bd3b69",
   "metadata": {},
   "source": [
    "### process txt gene expression matrix "
   ]
  },
  {
   "cell_type": "code",
   "execution_count": 3,
   "id": "31478c55",
   "metadata": {},
   "outputs": [],
   "source": [
    "data = []\n",
    "var_names = []\n",
    "with open('h227_2_humanMA_rpca_FILTERED_JOINED_gxmatrix.txt', 'r') as file:\n",
    "    for line in file:\n",
    "        values = line.strip().split(',')\n",
    "        if values[0] == 'rn':\n",
    "            gene_IDs = values[1:].copy().copy()\n",
    "        else:\n",
    "            data.append(sparse.csr_matrix([float(num) for num in values[1:]]))\n",
    "            var_names.append(values[0])"
   ]
  },
  {
   "cell_type": "code",
   "execution_count": 4,
   "id": "483b3309",
   "metadata": {},
   "outputs": [],
   "source": [
    "sparse_data_matrix = sparse.vstack(data)\n",
    "v227_2_adata_MA = ad.AnnData(sparse_data_matrix.T)\n",
    "v227_2_adata_MA.write_h5ad('v227_2_MA.h5ad')"
   ]
  },
  {
   "cell_type": "markdown",
   "id": "a7758d37",
   "metadata": {},
   "source": [
    "### save anndata obs info as csv "
   ]
  },
  {
   "cell_type": "code",
   "execution_count": 2,
   "id": "fdcda8ac",
   "metadata": {},
   "outputs": [
    {
     "name": "stderr",
     "output_type": "stream",
     "text": [
      "/tmp/ipykernel_635421/3037571086.py:1: DtypeWarning: Columns (8,9,11,12,13,14,15,16,18,19,21,22,23,24,25,26,27,29,30,31,32,33,34,35,37,39,40,41,42,43,44,67,69,78,79,80,96,97,100,101,102,105,106) have mixed types. Specify dtype option on import or set low_memory=False.\n",
      "  df_anno_obs = pd.read_csv('h227_2_humanMA_rpca_FILTERED_JOINED_cellanno.txt')\n"
     ]
    }
   ],
   "source": [
    "df_anno_obs = pd.read_csv('h227_2_humanMA_rpca_FILTERED_JOINED_cellanno.txt')\n",
    "df_anno_obs.set_index('rn', inplace=True)\n",
    "df_anno_obs.to_csv('v227_2_MA_obs.csv')"
   ]
  },
  {
   "cell_type": "markdown",
   "id": "ae4390c4",
   "metadata": {},
   "source": [
    "### save anndata var info as csv "
   ]
  },
  {
   "cell_type": "code",
   "execution_count": 13,
   "id": "1ea63e5d",
   "metadata": {},
   "outputs": [],
   "source": [
    "df_anno_var = pd.read_csv('h227_2_humanMA_rpca_FILTERED_JOINED_featureanno.txt')\n",
    "df_anno_var.set_index('rn', inplace=True)\n",
    "df_anno_var.to_csv('v227_2_MA_var.csv')"
   ]
  },
  {
   "cell_type": "markdown",
   "id": "fbc6138a",
   "metadata": {},
   "source": [
    "# hamster PR"
   ]
  },
  {
   "cell_type": "markdown",
   "id": "a1698444",
   "metadata": {},
   "source": [
    "### process txt gene expression matrix  "
   ]
  },
  {
   "cell_type": "code",
   "execution_count": null,
   "id": "15c637f2",
   "metadata": {},
   "outputs": [],
   "source": [
    "data = []\n",
    "var_names = []\n",
    "with open('h227_2_humanPR_rpca_FILTERED_JOINED_gxmatrix.txt', 'r') as file:\n",
    "    for line in file:\n",
    "        values = line.strip().split(',')\n",
    "        if values[0] == 'rn':\n",
    "            gene_IDs = values[1:].copy().copy()\n",
    "        else:\n",
    "            data.append(sparse.csr_matrix([float(num) for num in values[1:]]))\n",
    "            var_names.append(values[0])"
   ]
  },
  {
   "cell_type": "code",
   "execution_count": 8,
   "id": "9aa636bc",
   "metadata": {},
   "outputs": [],
   "source": [
    "sparse_data_matrix = sparse.vstack(data)\n",
    "v227_2_adata_PR = ad.AnnData(sparse_data_matrix.T)\n",
    "v227_2_adata_PR.write_h5ad('v227_2_PR.h5ad')"
   ]
  },
  {
   "cell_type": "markdown",
   "id": "e1d65ee2",
   "metadata": {},
   "source": [
    "### save anndata obs info as csv "
   ]
  },
  {
   "cell_type": "code",
   "execution_count": 7,
   "id": "45ba5fc4",
   "metadata": {
    "scrolled": true
   },
   "outputs": [
    {
     "data": {
      "text/plain": [
       "AnnData object with n_obs × n_vars = 108448 × 10632"
      ]
     },
     "execution_count": 7,
     "metadata": {},
     "output_type": "execute_result"
    }
   ],
   "source": [
    "v227_2_adata_PR"
   ]
  },
  {
   "cell_type": "code",
   "execution_count": 11,
   "id": "77f64d87",
   "metadata": {
    "scrolled": true
   },
   "outputs": [
    {
     "name": "stderr",
     "output_type": "stream",
     "text": [
      "/tmp/ipykernel_639757/3271643373.py:1: DtypeWarning: Columns (8,9,11,12,13,14,15,16,18,19,21,22,23,24,25,26,27,29,30,31,32,33,34,35,37,39,40,41,42,43,44,67,69,78,79,80,96,97,100,101,102,107,108) have mixed types. Specify dtype option on import or set low_memory=False.\n",
      "  df_anno_obs = pd.read_csv('h227_2_humanPR_rpca_FILTERED_JOINED_cellanno.txt')\n"
     ]
    }
   ],
   "source": [
    "df_anno_obs = pd.read_csv('h227_2_humanPR_rpca_FILTERED_JOINED_cellanno.txt')\n",
    "df_anno_obs.set_index('rn', inplace=True)\n",
    "df_anno_obs.to_csv('v227_2_PR_obs.csv')"
   ]
  },
  {
   "cell_type": "markdown",
   "id": "7f51695f",
   "metadata": {},
   "source": [
    "### save anndata var as csv "
   ]
  },
  {
   "cell_type": "code",
   "execution_count": 14,
   "id": "180f4bf3",
   "metadata": {},
   "outputs": [],
   "source": [
    "df_anno_var = pd.read_csv('h227_2_humanPR_rpca_FILTERED_JOINED_featureanno.txt')\n",
    "df_anno_var.set_index('rn', inplace=True)\n",
    "df_anno_var.to_csv('v227_2_PR_var.csv')"
   ]
  }
 ],
 "metadata": {
  "kernelspec": {
   "display_name": "Python 3 (ipykernel)",
   "language": "python",
   "name": "python3"
  },
  "language_info": {
   "codemirror_mode": {
    "name": "ipython",
    "version": 3
   },
   "file_extension": ".py",
   "mimetype": "text/x-python",
   "name": "python",
   "nbconvert_exporter": "python",
   "pygments_lexer": "ipython3",
   "version": "3.9.5"
  }
 },
 "nbformat": 4,
 "nbformat_minor": 5
}
