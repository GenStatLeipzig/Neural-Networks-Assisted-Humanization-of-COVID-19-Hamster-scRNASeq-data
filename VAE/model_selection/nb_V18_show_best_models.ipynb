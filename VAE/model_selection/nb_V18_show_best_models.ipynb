{
 "cells": [
  {
   "cell_type": "code",
   "execution_count": 1,
   "id": "68bc1a71",
   "metadata": {},
   "outputs": [],
   "source": [
    "import pandas as pd\n",
    "import numpy as np\n",
    "import seaborn as sns\n",
    "import matplotlib.pyplot as plt\n",
    "import pandas\n",
    "import sys\n",
    "#sys.path.append(\"/work/users/mh823zote/projects/cov/integration/analysis\")\n",
    "#import helper_VAE as hVAE\n",
    "import scipy.sparse\n",
    "#import scgen\n",
    "import matplotlib.pyplot as plt\n",
    "import seaborn as sns\n",
    "#import harmonypy as hpy\n",
    "import anndata\n",
    "save_folder_pillai = 'C:\\\\Users\\\\vfriedrich\\\\projects\\\\cov\\\\backup\\\\v228_backup_12_07\\\\results_v228_1\\\\model_selection\\\\pillais_trace\\\\'\n"
   ]
  },
  {
   "cell_type": "markdown",
   "id": "457a56ff",
   "metadata": {},
   "source": [
    "### Best models excluding Immature Neutrophils"
   ]
  },
  {
   "cell_type": "code",
   "execution_count": 2,
   "id": "32411d2d",
   "metadata": {},
   "outputs": [],
   "source": [
    "best_models = pd.read_csv(save_folder_pillai + 'v15_best_models_B4.csv',index_col =0)\n",
    "best_models = best_models.drop('Immature_Neutrophils_acurate')"
   ]
  },
  {
   "cell_type": "markdown",
   "id": "682cfffe",
   "metadata": {},
   "source": [
    "### Immature neutrophil subtyping"
   ]
  },
  {
   "cell_type": "code",
   "execution_count": 4,
   "id": "a1e74017",
   "metadata": {},
   "outputs": [],
   "source": [
    "pre = 'v13_type1_h270'\n",
    "\n",
    "\n",
    "\n",
    "species = 'ma'\n",
    "celltype = 'Immature_Neutrophils_acurate'\n",
    "\n",
    "ma_Immature_Neutrophils_subtype = pd.read_csv(save_folder_pillai + pre + '_' + species + '_' + celltype + '.csv',index_col = 0).T['Value']\n",
    "ma_Immature_Neutrophils_subtype = pd.DataFrame(ma_Immature_Neutrophils_subtype)\n",
    "ma_Immature_Neutrophils_subtype = ma_Immature_Neutrophils_subtype.rename(columns = {'Value':'Immature_Neutrophils_subtype'})\n",
    "ma_Immature_Neutrophils_subtype = ma_Immature_Neutrophils_subtype.T\n",
    "ma_Immature_Neutrophils_subtype['max_column'] = ma_Immature_Neutrophils_subtype.idxmax(axis=1)\n",
    "\n",
    "species = 'pr'\n",
    "celltype = 'Immature_Neutrophils_acurate'\n",
    "\n",
    "pr_Immature_Neutrophils_subtype = pd.read_csv(save_folder_pillai + pre + '_' + species + '_' + celltype + '.csv',index_col = 0).T['Value']\n",
    "pr_Immature_Neutrophils_subtype = pd.DataFrame(pr_Immature_Neutrophils_subtype)\n",
    "pr_Immature_Neutrophils_subtype = pr_Immature_Neutrophils_subtype.rename(columns = {'Value':'Immature_Neutrophils_subtype'})\n",
    "pr_Immature_Neutrophils_subtype = pr_Immature_Neutrophils_subtype.T\n",
    "pr_Immature_Neutrophils_subtype['max_column'] = pr_Immature_Neutrophils_subtype.idxmax(axis=1)\n",
    "\n",
    "df_imm = pd.DataFrame(columns = ['best_model_ma','best_model_pr'])\n",
    "df_imm.loc[0] = [ma_Immature_Neutrophils_subtype['max_column'][0],pr_Immature_Neutrophils_subtype['max_column'][0]] \n",
    "df_imm.index = ['Immature_Neutrophils_acurate']\n"
   ]
  },
  {
   "cell_type": "markdown",
   "id": "f7dac826",
   "metadata": {},
   "source": [
    "### Join  "
   ]
  },
  {
   "cell_type": "code",
   "execution_count": 12,
   "id": "0e15e62b",
   "metadata": {},
   "outputs": [
    {
     "data": {
      "text/html": [
       "<div>\n",
       "<style scoped>\n",
       "    .dataframe tbody tr th:only-of-type {\n",
       "        vertical-align: middle;\n",
       "    }\n",
       "\n",
       "    .dataframe tbody tr th {\n",
       "        vertical-align: top;\n",
       "    }\n",
       "\n",
       "    .dataframe thead th {\n",
       "        text-align: right;\n",
       "    }\n",
       "</style>\n",
       "<table border=\"1\" class=\"dataframe\">\n",
       "  <thead>\n",
       "    <tr style=\"text-align: right;\">\n",
       "      <th></th>\n",
       "      <th>best_model_ma</th>\n",
       "      <th>best_model_pr</th>\n",
       "    </tr>\n",
       "  </thead>\n",
       "  <tbody>\n",
       "    <tr>\n",
       "      <th>CD4+_T_Cells</th>\n",
       "      <td>B4_run_5</td>\n",
       "      <td>B4_run_5</td>\n",
       "    </tr>\n",
       "    <tr>\n",
       "      <th>Classical_Monocytes</th>\n",
       "      <td>B4_run_2</td>\n",
       "      <td>B4_run_3</td>\n",
       "    </tr>\n",
       "    <tr>\n",
       "      <th>B_Cells</th>\n",
       "      <td>B4_run_5</td>\n",
       "      <td>B4_run_4</td>\n",
       "    </tr>\n",
       "    <tr>\n",
       "      <th>CD8+_T_Cells</th>\n",
       "      <td>B4_run_4</td>\n",
       "      <td>B4_run_1</td>\n",
       "    </tr>\n",
       "    <tr>\n",
       "      <th>NK_Cells</th>\n",
       "      <td>B4_run_2</td>\n",
       "      <td>B4_run_5</td>\n",
       "    </tr>\n",
       "    <tr>\n",
       "      <th>Non_Classical_Monocytes</th>\n",
       "      <td>B4_run_2</td>\n",
       "      <td>B4_run_3</td>\n",
       "    </tr>\n",
       "    <tr>\n",
       "      <th>Neutrophils_acurate</th>\n",
       "      <td>B4_run_3</td>\n",
       "      <td>B4_run_3</td>\n",
       "    </tr>\n",
       "    <tr>\n",
       "      <th>Immature_Neutrophils_acurate</th>\n",
       "      <td>B4type1_h270_run_4</td>\n",
       "      <td>B4type1_h270_run_5</td>\n",
       "    </tr>\n",
       "  </tbody>\n",
       "</table>\n",
       "</div>"
      ],
      "text/plain": [
       "                                   best_model_ma       best_model_pr\n",
       "CD4+_T_Cells                            B4_run_5            B4_run_5\n",
       "Classical_Monocytes                     B4_run_2            B4_run_3\n",
       "B_Cells                                 B4_run_5            B4_run_4\n",
       "CD8+_T_Cells                            B4_run_4            B4_run_1\n",
       "NK_Cells                                B4_run_2            B4_run_5\n",
       "Non_Classical_Monocytes                 B4_run_2            B4_run_3\n",
       "Neutrophils_acurate                     B4_run_3            B4_run_3\n",
       "Immature_Neutrophils_acurate  B4type1_h270_run_4  B4type1_h270_run_5"
      ]
     },
     "execution_count": 12,
     "metadata": {},
     "output_type": "execute_result"
    }
   ],
   "source": [
    "pd.concat([best_models, df_imm])"
   ]
  },
  {
   "cell_type": "code",
   "execution_count": 13,
   "id": "c35631f8",
   "metadata": {
    "scrolled": true
   },
   "outputs": [],
   "source": [
    "best_models_final = pd.concat([best_models, df_imm])"
   ]
  },
  {
   "cell_type": "code",
   "execution_count": 14,
   "id": "5cd23806",
   "metadata": {},
   "outputs": [
    {
     "data": {
      "text/html": [
       "<div>\n",
       "<style scoped>\n",
       "    .dataframe tbody tr th:only-of-type {\n",
       "        vertical-align: middle;\n",
       "    }\n",
       "\n",
       "    .dataframe tbody tr th {\n",
       "        vertical-align: top;\n",
       "    }\n",
       "\n",
       "    .dataframe thead th {\n",
       "        text-align: right;\n",
       "    }\n",
       "</style>\n",
       "<table border=\"1\" class=\"dataframe\">\n",
       "  <thead>\n",
       "    <tr style=\"text-align: right;\">\n",
       "      <th></th>\n",
       "      <th>best_model_ma</th>\n",
       "      <th>best_model_pr</th>\n",
       "    </tr>\n",
       "  </thead>\n",
       "  <tbody>\n",
       "    <tr>\n",
       "      <th>CD4+_T_Cells</th>\n",
       "      <td>B4_run_5</td>\n",
       "      <td>B4_run_5</td>\n",
       "    </tr>\n",
       "    <tr>\n",
       "      <th>Classical_Monocytes</th>\n",
       "      <td>B4_run_2</td>\n",
       "      <td>B4_run_3</td>\n",
       "    </tr>\n",
       "    <tr>\n",
       "      <th>B_Cells</th>\n",
       "      <td>B4_run_5</td>\n",
       "      <td>B4_run_4</td>\n",
       "    </tr>\n",
       "    <tr>\n",
       "      <th>CD8+_T_Cells</th>\n",
       "      <td>B4_run_4</td>\n",
       "      <td>B4_run_1</td>\n",
       "    </tr>\n",
       "    <tr>\n",
       "      <th>NK_Cells</th>\n",
       "      <td>B4_run_2</td>\n",
       "      <td>B4_run_5</td>\n",
       "    </tr>\n",
       "    <tr>\n",
       "      <th>Non_Classical_Monocytes</th>\n",
       "      <td>B4_run_2</td>\n",
       "      <td>B4_run_3</td>\n",
       "    </tr>\n",
       "    <tr>\n",
       "      <th>Neutrophils_acurate</th>\n",
       "      <td>B4_run_3</td>\n",
       "      <td>B4_run_3</td>\n",
       "    </tr>\n",
       "    <tr>\n",
       "      <th>Immature_Neutrophils_acurate</th>\n",
       "      <td>B4type1_h270_run_4</td>\n",
       "      <td>B4type1_h270_run_5</td>\n",
       "    </tr>\n",
       "  </tbody>\n",
       "</table>\n",
       "</div>"
      ],
      "text/plain": [
       "                                   best_model_ma       best_model_pr\n",
       "CD4+_T_Cells                            B4_run_5            B4_run_5\n",
       "Classical_Monocytes                     B4_run_2            B4_run_3\n",
       "B_Cells                                 B4_run_5            B4_run_4\n",
       "CD8+_T_Cells                            B4_run_4            B4_run_1\n",
       "NK_Cells                                B4_run_2            B4_run_5\n",
       "Non_Classical_Monocytes                 B4_run_2            B4_run_3\n",
       "Neutrophils_acurate                     B4_run_3            B4_run_3\n",
       "Immature_Neutrophils_acurate  B4type1_h270_run_4  B4type1_h270_run_5"
      ]
     },
     "execution_count": 14,
     "metadata": {},
     "output_type": "execute_result"
    }
   ],
   "source": [
    "best_models_final"
   ]
  },
  {
   "cell_type": "markdown",
   "id": "837f8c84",
   "metadata": {},
   "source": [
    "### Save "
   ]
  },
  {
   "cell_type": "code",
   "execution_count": 15,
   "id": "842feea6",
   "metadata": {},
   "outputs": [],
   "source": [
    "best_models_final.to_csv(save_folder_pillai + 'v18_best_models_final.csv')"
   ]
  }
 ],
 "metadata": {
  "kernelspec": {
   "display_name": "Python 3 (ipykernel)",
   "language": "python",
   "name": "python3"
  },
  "language_info": {
   "codemirror_mode": {
    "name": "ipython",
    "version": 3
   },
   "file_extension": ".py",
   "mimetype": "text/x-python",
   "name": "python",
   "nbconvert_exporter": "python",
   "pygments_lexer": "ipython3",
   "version": "3.8.17"
  }
 },
 "nbformat": 4,
 "nbformat_minor": 5
}
